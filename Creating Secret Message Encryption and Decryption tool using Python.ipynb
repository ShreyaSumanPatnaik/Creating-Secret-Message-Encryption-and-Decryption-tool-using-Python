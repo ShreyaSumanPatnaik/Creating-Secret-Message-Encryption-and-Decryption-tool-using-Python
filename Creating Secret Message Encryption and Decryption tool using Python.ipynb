{
 "cells": [
  {
   "cell_type": "code",
   "execution_count": 1,
   "id": "b1c679df",
   "metadata": {},
   "outputs": [
    {
     "name": "stdout",
     "output_type": "stream",
     "text": [
      "Collecting pybase64\n",
      "  Downloading pybase64-1.4.0-cp39-cp39-win_amd64.whl (36 kB)\n",
      "Installing collected packages: pybase64\n",
      "Successfully installed pybase64-1.4.0\n",
      "Note: you may need to restart the kernel to use updated packages.\n"
     ]
    }
   ],
   "source": [
    "pip install pybase64"
   ]
  },
  {
   "cell_type": "code",
   "execution_count": 2,
   "id": "02011143",
   "metadata": {},
   "outputs": [],
   "source": [
    "from tkinter import *\n",
    "from tkinter import messagebox\n",
    "import base64\n",
    "import os"
   ]
  },
  {
   "cell_type": "code",
   "execution_count": 4,
   "id": "adba2d80",
   "metadata": {},
   "outputs": [],
   "source": [
    "def decrypt():\n",
    "    password=code.get()\n",
    "    \n",
    "    if password==\"1234\":\n",
    "        screen2=Toplevel(screen)\n",
    "        screen2.title(\"decryption\")\n",
    "        screen2.geometry(\"400x200\")\n",
    "        screen2.configure(bg='#00bd56')\n",
    "        \n",
    "        message=text1.get(1.0,END)\n",
    "        decode_message=message.encode(\"ascii\")\n",
    "        base64_bytes=base64.b64decode(decode_message)\n",
    "        decrypt=base64_bytes.decode(\"ascii\")\n",
    "        \n",
    "        \n",
    "        Label(screen2,text=\"DECRYPT\",font=\"arial\",fg=\"white\",bg=\"#00bd56\").place(x=10,y=0)\n",
    "        text2=Text(screen2,font=\"Rpbote 10\",bg=\"white\",relief=GROOVE,wrap=WORD,bd=0)\n",
    "        text2.place(x=10,y=40,width=380,height=150)\n",
    "        \n",
    "        text2.insert(END,decrypt)\n",
    "        \n",
    "    elif password==\"\":\n",
    "        messagebox.showerror(\"encryption\",\"Input Password\")\n",
    "    \n",
    "    elif password !=\"1234\":\n",
    "        messagebox.showerror(\"encryption\",\"Invalid Password\")\n",
    "    \n",
    "def encrypt():\n",
    "    password=code.get()\n",
    "    \n",
    "    if password==\"1234\":\n",
    "        screen1=Toplevel(screen)\n",
    "        screen1.title(\"encryption\")\n",
    "        screen1.geometry(\"400x200\")\n",
    "        screen1.configure(bg='#ed3833')\n",
    "        \n",
    "        message=text1.get(1.0,END)\n",
    "        encode_message=message.encode(\"ascii\")\n",
    "        base64_bytes=base64.b64encode(encode_message)\n",
    "        encrypt=base64_bytes.decode(\"ascii\")\n",
    "        \n",
    "        \n",
    "        Label(screen1,text=\"ENCRYPT\",font=\"arial\",fg=\"white\",bg=\"#ed3833\").place(x=10,y=0)\n",
    "        text2=Text(screen1,font=\"Rpbote 10\",bg=\"white\",relief=GROOVE,wrap=WORD,bd=0)\n",
    "        text2.place(x=10,y=40,width=380,height=150)\n",
    "        \n",
    "        text2.insert(END,encrypt)\n",
    "        \n",
    "    elif password==\"\":\n",
    "        messagebox.showerror(\"encryption\",\"Input Password\")\n",
    "    \n",
    "    elif password !=\"1234\":\n",
    "        messagebox.showerror(\"encryption\",\"Invalid Password\")\n",
    "        \n",
    "\n",
    "def main_screen():\n",
    "    \n",
    "    global screen\n",
    "    global code\n",
    "    global text1\n",
    "    \n",
    "    screen = Tk()\n",
    "    screen.geometry(\"375x398\")\n",
    "    \n",
    "    \n",
    "    screen.title(\"PctApp\")\n",
    "    \n",
    "    def reset():\n",
    "        code.set(\"\")\n",
    "        text1.delete(1.0,END)\n",
    "    \n",
    "    Label(text=\"Enter text for encryption and decryption\", fg=\"black\", font=(\"calbri\",13)).place(x=10,y=10)\n",
    "    text1=Text(font=\"Robote 20\",bg=\"white\",relief=GROOVE,wrap=WORD,bd=0)\n",
    "    text1.place(x=10,y=50,width=355,height=100)\n",
    "    \n",
    "    Label(text=\"Enter secret key for encryption and decryption\",fg=\"black\",font=(\"calbri\",13)).place(x=10,y=170)\n",
    "    code=StringVar()\n",
    "    Entry(textvariable=code,width=19,bd=0,font=(\"arial\",25),show=\"*\").place(x=10,y=200)\n",
    "    \n",
    "    Button(text=\"ENCRYPT\",height=\"2\",width=23,bg=\"#ed3833\",fg=\"white\",bd=0,command=encrypt).place(x=10,y=250)\n",
    "    Button(text=\"DECRYPT\",height=\"2\",width=23,bg=\"#00bd56\",fg=\"white\",bd=0,command=decrypt).place(x=200,y=250) \n",
    "    Button(text=\"RESET\",height=\"2\",width=50,bg=\"#1089ff\",fg=\"white\",bd=0,command=reset).place(x=10,y=300) \n",
    "    \n",
    "    \n",
    "    screen.mainloop()\n",
    "    \n",
    "main_screen()  "
   ]
  },
  {
   "cell_type": "code",
   "execution_count": null,
   "id": "543a9438",
   "metadata": {},
   "outputs": [],
   "source": []
  }
 ],
 "metadata": {
  "kernelspec": {
   "display_name": "Python 3 (ipykernel)",
   "language": "python",
   "name": "python3"
  },
  "language_info": {
   "codemirror_mode": {
    "name": "ipython",
    "version": 3
   },
   "file_extension": ".py",
   "mimetype": "text/x-python",
   "name": "python",
   "nbconvert_exporter": "python",
   "pygments_lexer": "ipython3",
   "version": "3.9.13"
  }
 },
 "nbformat": 4,
 "nbformat_minor": 5
}
